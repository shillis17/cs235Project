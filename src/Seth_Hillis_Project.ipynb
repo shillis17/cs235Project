{
 "cells": [
  {
   "cell_type": "markdown",
   "id": "b0f648bd",
   "metadata": {},
   "source": [
    "GitHub repo: https://github.com/shillis17/cs235Project"
   ]
  },
  {
   "cell_type": "code",
   "execution_count": 1,
   "id": "45b21b6a",
   "metadata": {},
   "outputs": [],
   "source": [
    "import numpy as np\n",
    "import pandas as pd\n",
    "import matplotlib.pyplot as plt"
   ]
  },
  {
   "cell_type": "markdown",
   "id": "a23e204c",
   "metadata": {},
   "source": [
    "## This next chunk reads in all the data that I have saved, and is updated to read from the GitHub Repo that I have created so no additional files are required to run this notebook."
   ]
  },
  {
   "cell_type": "code",
   "execution_count": 2,
   "id": "f451ca13",
   "metadata": {
    "scrolled": true
   },
   "outputs": [],
   "source": [
    "College_Data = pd.read_csv(\"https://raw.githubusercontent.com/shillis17/cs235Project/main/data_raw/colleges/colleges.csv\")\n",
    "Death_Data = pd.read_csv(\"https://raw.githubusercontent.com/shillis17/cs235Project/main/data_raw/excess-deaths/deaths.csv\")\n",
    "Mask_Data = pd.read_csv(\"https://raw.githubusercontent.com/shillis17/cs235Project/main/data_raw/mask-use/mask-use-by-county.csv\")\n",
    "Prison_Data= pd.read_csv(\"https://raw.githubusercontent.com/shillis17/cs235Project/main/data_raw/prisons/facilities.csv\")\n",
    "County20_Data = pd.read_csv(\"https://raw.githubusercontent.com/shillis17/cs235Project/main/data_raw/us-counties-2020.csv\")\n",
    "County21_Data = pd.read_csv(\"https://raw.githubusercontent.com/shillis17/cs235Project/main/data_raw/us-counties-2021.csv\")\n",
    "County22_Data = pd.read_csv(\"https://raw.githubusercontent.com/shillis17/cs235Project/main/data_raw/us-counties-2022.csv\")\n",
    "US_Data = pd.read_csv(\"https://raw.githubusercontent.com/shillis17/cs235Project/main/data_raw/us.csv\")"
   ]
  },
  {
   "cell_type": "markdown",
   "id": "2368ac8a",
   "metadata": {},
   "source": [
    "## The next few chunks are set to look at the data and clean features that have no use to the questions that I would like to research with the data. This cells also combine some data frames into a single frame and save the new data frame as a csv for quicker use of the data in the future."
   ]
  },
  {
   "cell_type": "code",
   "execution_count": 3,
   "id": "57c56a02",
   "metadata": {
    "scrolled": true
   },
   "outputs": [],
   "source": [
    "College_Data.set_index([\"state\",\"county\"],inplace=True)\n",
    "Death_Data.set_index([\"country\"],inplace=True)\n",
    "Mask_Data.set_index(\"COUNTYFP\",inplace=True)\n",
    "Prison_Data.set_index([\"facility_state\",\"facility_county\"],inplace = True)\n",
    "County_Data = ((County20_Data.append(County21_Data)).append(County22_Data)).set_index([\"date\",\"state\",\"county\"])\n",
    "US_Data.set_index(\"date\",inplace=True)"
   ]
  },
  {
   "cell_type": "code",
   "execution_count": 4,
   "id": "3fbfde99",
   "metadata": {},
   "outputs": [
    {
     "data": {
      "text/html": [
       "<div>\n",
       "<style scoped>\n",
       "    .dataframe tbody tr th:only-of-type {\n",
       "        vertical-align: middle;\n",
       "    }\n",
       "\n",
       "    .dataframe tbody tr th {\n",
       "        vertical-align: top;\n",
       "    }\n",
       "\n",
       "    .dataframe thead th {\n",
       "        text-align: right;\n",
       "    }\n",
       "</style>\n",
       "<table border=\"1\" class=\"dataframe\">\n",
       "  <thead>\n",
       "    <tr style=\"text-align: right;\">\n",
       "      <th></th>\n",
       "      <th></th>\n",
       "      <th>date</th>\n",
       "      <th>city</th>\n",
       "      <th>college</th>\n",
       "      <th>cases</th>\n",
       "      <th>cases_2021</th>\n",
       "    </tr>\n",
       "    <tr>\n",
       "      <th>state</th>\n",
       "      <th>county</th>\n",
       "      <th></th>\n",
       "      <th></th>\n",
       "      <th></th>\n",
       "      <th></th>\n",
       "      <th></th>\n",
       "    </tr>\n",
       "  </thead>\n",
       "  <tbody>\n",
       "    <tr>\n",
       "      <th rowspan=\"5\" valign=\"top\">Alabama</th>\n",
       "      <th>Madison</th>\n",
       "      <td>2021-05-26</td>\n",
       "      <td>Huntsville</td>\n",
       "      <td>Alabama A&amp;M University</td>\n",
       "      <td>41</td>\n",
       "      <td>NaN</td>\n",
       "    </tr>\n",
       "    <tr>\n",
       "      <th>Montgomery</th>\n",
       "      <td>2021-05-26</td>\n",
       "      <td>Montgomery</td>\n",
       "      <td>Alabama State University</td>\n",
       "      <td>2</td>\n",
       "      <td>NaN</td>\n",
       "    </tr>\n",
       "    <tr>\n",
       "      <th>Limestone</th>\n",
       "      <td>2021-05-26</td>\n",
       "      <td>Athens</td>\n",
       "      <td>Athens State University</td>\n",
       "      <td>45</td>\n",
       "      <td>10.0</td>\n",
       "    </tr>\n",
       "    <tr>\n",
       "      <th>Lee</th>\n",
       "      <td>2021-05-26</td>\n",
       "      <td>Auburn</td>\n",
       "      <td>Auburn University</td>\n",
       "      <td>2742</td>\n",
       "      <td>567.0</td>\n",
       "    </tr>\n",
       "    <tr>\n",
       "      <th>Montgomery</th>\n",
       "      <td>2021-05-26</td>\n",
       "      <td>Montgomery</td>\n",
       "      <td>Auburn University at Montgomery</td>\n",
       "      <td>220</td>\n",
       "      <td>80.0</td>\n",
       "    </tr>\n",
       "  </tbody>\n",
       "</table>\n",
       "</div>"
      ],
      "text/plain": [
       "                          date        city                          college  \\\n",
       "state   county                                                                \n",
       "Alabama Madison     2021-05-26  Huntsville           Alabama A&M University   \n",
       "        Montgomery  2021-05-26  Montgomery         Alabama State University   \n",
       "        Limestone   2021-05-26      Athens          Athens State University   \n",
       "        Lee         2021-05-26      Auburn                Auburn University   \n",
       "        Montgomery  2021-05-26  Montgomery  Auburn University at Montgomery   \n",
       "\n",
       "                    cases  cases_2021  \n",
       "state   county                         \n",
       "Alabama Madison        41         NaN  \n",
       "        Montgomery      2         NaN  \n",
       "        Limestone      45        10.0  \n",
       "        Lee          2742       567.0  \n",
       "        Montgomery    220        80.0  "
      ]
     },
     "execution_count": 4,
     "metadata": {},
     "output_type": "execute_result"
    }
   ],
   "source": [
    "College_Data.drop([\"ipeds_id\",\"notes\"],axis=1,inplace=True)\n",
    "College_Data.head()"
   ]
  },
  {
   "cell_type": "code",
   "execution_count": 5,
   "id": "c2f5810a",
   "metadata": {},
   "outputs": [
    {
     "data": {
      "text/html": [
       "<div>\n",
       "<style scoped>\n",
       "    .dataframe tbody tr th:only-of-type {\n",
       "        vertical-align: middle;\n",
       "    }\n",
       "\n",
       "    .dataframe tbody tr th {\n",
       "        vertical-align: top;\n",
       "    }\n",
       "\n",
       "    .dataframe thead th {\n",
       "        text-align: right;\n",
       "    }\n",
       "</style>\n",
       "<table border=\"1\" class=\"dataframe\">\n",
       "  <thead>\n",
       "    <tr style=\"text-align: right;\">\n",
       "      <th></th>\n",
       "      <th>year</th>\n",
       "      <th>month</th>\n",
       "      <th>week</th>\n",
       "      <th>deaths</th>\n",
       "      <th>expected_deaths</th>\n",
       "      <th>excess_deaths</th>\n",
       "    </tr>\n",
       "    <tr>\n",
       "      <th>country</th>\n",
       "      <th></th>\n",
       "      <th></th>\n",
       "      <th></th>\n",
       "      <th></th>\n",
       "      <th></th>\n",
       "      <th></th>\n",
       "    </tr>\n",
       "  </thead>\n",
       "  <tbody>\n",
       "    <tr>\n",
       "      <th>United States</th>\n",
       "      <td>2020</td>\n",
       "      <td>1</td>\n",
       "      <td>2.0</td>\n",
       "      <td>60710</td>\n",
       "      <td>60757.0</td>\n",
       "      <td>-47.0</td>\n",
       "    </tr>\n",
       "    <tr>\n",
       "      <th>United States</th>\n",
       "      <td>2020</td>\n",
       "      <td>1</td>\n",
       "      <td>3.0</td>\n",
       "      <td>59360</td>\n",
       "      <td>60179.0</td>\n",
       "      <td>-819.0</td>\n",
       "    </tr>\n",
       "    <tr>\n",
       "      <th>United States</th>\n",
       "      <td>2020</td>\n",
       "      <td>1</td>\n",
       "      <td>4.0</td>\n",
       "      <td>59140</td>\n",
       "      <td>60064.0</td>\n",
       "      <td>-924.0</td>\n",
       "    </tr>\n",
       "    <tr>\n",
       "      <th>United States</th>\n",
       "      <td>2020</td>\n",
       "      <td>2</td>\n",
       "      <td>5.0</td>\n",
       "      <td>58800</td>\n",
       "      <td>60821.0</td>\n",
       "      <td>-2021.0</td>\n",
       "    </tr>\n",
       "    <tr>\n",
       "      <th>United States</th>\n",
       "      <td>2020</td>\n",
       "      <td>2</td>\n",
       "      <td>6.0</td>\n",
       "      <td>59380</td>\n",
       "      <td>60545.0</td>\n",
       "      <td>-1165.0</td>\n",
       "    </tr>\n",
       "  </tbody>\n",
       "</table>\n",
       "</div>"
      ],
      "text/plain": [
       "               year  month  week  deaths  expected_deaths  excess_deaths\n",
       "country                                                                 \n",
       "United States  2020      1   2.0   60710          60757.0          -47.0\n",
       "United States  2020      1   3.0   59360          60179.0         -819.0\n",
       "United States  2020      1   4.0   59140          60064.0         -924.0\n",
       "United States  2020      2   5.0   58800          60821.0        -2021.0\n",
       "United States  2020      2   6.0   59380          60545.0        -1165.0"
      ]
     },
     "execution_count": 5,
     "metadata": {},
     "output_type": "execute_result"
    }
   ],
   "source": [
    "Death_Data.drop([\"placename\",\"frequency\",\"start_date\",\"end_date\",\"baseline\"],axis=1,inplace=True)\n",
    "Death_Data = Death_Data.loc[\"United States\"]\n",
    "Death_Data = Death_Data.loc[Death_Data[\"year\"] != \"2017-2019 average\"]\n",
    "Death_Data.head()"
   ]
  },
  {
   "cell_type": "code",
   "execution_count": 6,
   "id": "561fdec4",
   "metadata": {},
   "outputs": [
    {
     "data": {
      "text/html": [
       "<div>\n",
       "<style scoped>\n",
       "    .dataframe tbody tr th:only-of-type {\n",
       "        vertical-align: middle;\n",
       "    }\n",
       "\n",
       "    .dataframe tbody tr th {\n",
       "        vertical-align: top;\n",
       "    }\n",
       "\n",
       "    .dataframe thead th {\n",
       "        text-align: right;\n",
       "    }\n",
       "</style>\n",
       "<table border=\"1\" class=\"dataframe\">\n",
       "  <thead>\n",
       "    <tr style=\"text-align: right;\">\n",
       "      <th></th>\n",
       "      <th>NEVER</th>\n",
       "      <th>RARELY</th>\n",
       "      <th>SOMETIMES</th>\n",
       "      <th>FREQUENTLY</th>\n",
       "      <th>ALWAYS</th>\n",
       "    </tr>\n",
       "    <tr>\n",
       "      <th>COUNTYFP</th>\n",
       "      <th></th>\n",
       "      <th></th>\n",
       "      <th></th>\n",
       "      <th></th>\n",
       "      <th></th>\n",
       "    </tr>\n",
       "  </thead>\n",
       "  <tbody>\n",
       "    <tr>\n",
       "      <th>1001</th>\n",
       "      <td>0.053</td>\n",
       "      <td>0.074</td>\n",
       "      <td>0.134</td>\n",
       "      <td>0.295</td>\n",
       "      <td>0.444</td>\n",
       "    </tr>\n",
       "    <tr>\n",
       "      <th>1003</th>\n",
       "      <td>0.083</td>\n",
       "      <td>0.059</td>\n",
       "      <td>0.098</td>\n",
       "      <td>0.323</td>\n",
       "      <td>0.436</td>\n",
       "    </tr>\n",
       "    <tr>\n",
       "      <th>1005</th>\n",
       "      <td>0.067</td>\n",
       "      <td>0.121</td>\n",
       "      <td>0.120</td>\n",
       "      <td>0.201</td>\n",
       "      <td>0.491</td>\n",
       "    </tr>\n",
       "    <tr>\n",
       "      <th>1007</th>\n",
       "      <td>0.020</td>\n",
       "      <td>0.034</td>\n",
       "      <td>0.096</td>\n",
       "      <td>0.278</td>\n",
       "      <td>0.572</td>\n",
       "    </tr>\n",
       "    <tr>\n",
       "      <th>1009</th>\n",
       "      <td>0.053</td>\n",
       "      <td>0.114</td>\n",
       "      <td>0.180</td>\n",
       "      <td>0.194</td>\n",
       "      <td>0.459</td>\n",
       "    </tr>\n",
       "  </tbody>\n",
       "</table>\n",
       "</div>"
      ],
      "text/plain": [
       "          NEVER  RARELY  SOMETIMES  FREQUENTLY  ALWAYS\n",
       "COUNTYFP                                              \n",
       "1001      0.053   0.074      0.134       0.295   0.444\n",
       "1003      0.083   0.059      0.098       0.323   0.436\n",
       "1005      0.067   0.121      0.120       0.201   0.491\n",
       "1007      0.020   0.034      0.096       0.278   0.572\n",
       "1009      0.053   0.114      0.180       0.194   0.459"
      ]
     },
     "execution_count": 6,
     "metadata": {},
     "output_type": "execute_result"
    }
   ],
   "source": [
    "Mask_Data.head()"
   ]
  },
  {
   "cell_type": "code",
   "execution_count": 7,
   "id": "9876a83e",
   "metadata": {},
   "outputs": [
    {
     "data": {
      "text/html": [
       "<div>\n",
       "<style scoped>\n",
       "    .dataframe tbody tr th:only-of-type {\n",
       "        vertical-align: middle;\n",
       "    }\n",
       "\n",
       "    .dataframe tbody tr th {\n",
       "        vertical-align: top;\n",
       "    }\n",
       "\n",
       "    .dataframe thead th {\n",
       "        text-align: right;\n",
       "    }\n",
       "</style>\n",
       "<table border=\"1\" class=\"dataframe\">\n",
       "  <thead>\n",
       "    <tr style=\"text-align: right;\">\n",
       "      <th></th>\n",
       "      <th></th>\n",
       "      <th>nyt_id</th>\n",
       "      <th>facility_name</th>\n",
       "      <th>facility_type</th>\n",
       "      <th>latest_inmate_population</th>\n",
       "      <th>max_inmate_population_2020</th>\n",
       "      <th>total_inmate_cases</th>\n",
       "      <th>total_inmate_deaths</th>\n",
       "      <th>total_officer_cases</th>\n",
       "      <th>total_officer_deaths</th>\n",
       "    </tr>\n",
       "    <tr>\n",
       "      <th>facility_state</th>\n",
       "      <th>facility_county</th>\n",
       "      <th></th>\n",
       "      <th></th>\n",
       "      <th></th>\n",
       "      <th></th>\n",
       "      <th></th>\n",
       "      <th></th>\n",
       "      <th></th>\n",
       "      <th></th>\n",
       "      <th></th>\n",
       "    </tr>\n",
       "  </thead>\n",
       "  <tbody>\n",
       "    <tr>\n",
       "      <th rowspan=\"5\" valign=\"top\">Alabama</th>\n",
       "      <th>Coosa</th>\n",
       "      <td>F3EFE858</td>\n",
       "      <td>Alex City Work Release prison</td>\n",
       "      <td>Low-security work release</td>\n",
       "      <td>188.0</td>\n",
       "      <td>NaN</td>\n",
       "      <td>77</td>\n",
       "      <td>0</td>\n",
       "      <td>17</td>\n",
       "      <td>0.0</td>\n",
       "    </tr>\n",
       "    <tr>\n",
       "      <th>Shelby</th>\n",
       "      <td>5B910220</td>\n",
       "      <td>Alabama Therapeutic Education Facility prison</td>\n",
       "      <td>State rehabilitation center</td>\n",
       "      <td>272.0</td>\n",
       "      <td>NaN</td>\n",
       "      <td>11</td>\n",
       "      <td>1</td>\n",
       "      <td>2</td>\n",
       "      <td>0.0</td>\n",
       "    </tr>\n",
       "    <tr>\n",
       "      <th>Bibb</th>\n",
       "      <td>02FB1675</td>\n",
       "      <td>Bibb Correctional Facility</td>\n",
       "      <td>State prison</td>\n",
       "      <td>1725.0</td>\n",
       "      <td>1825.0</td>\n",
       "      <td>164</td>\n",
       "      <td>3</td>\n",
       "      <td>61</td>\n",
       "      <td>0.0</td>\n",
       "    </tr>\n",
       "    <tr>\n",
       "      <th>Jefferson</th>\n",
       "      <td>6378F6C4</td>\n",
       "      <td>Birmingham Women's Community Based Facility an...</td>\n",
       "      <td>State prison</td>\n",
       "      <td>192.0</td>\n",
       "      <td>NaN</td>\n",
       "      <td>17</td>\n",
       "      <td>0</td>\n",
       "      <td>28</td>\n",
       "      <td>0.0</td>\n",
       "    </tr>\n",
       "    <tr>\n",
       "      <th>Bullock</th>\n",
       "      <td>EAABF900</td>\n",
       "      <td>Bullock Correctional Facility</td>\n",
       "      <td>State prison</td>\n",
       "      <td>1477.0</td>\n",
       "      <td>1577.0</td>\n",
       "      <td>162</td>\n",
       "      <td>5</td>\n",
       "      <td>80</td>\n",
       "      <td>1.0</td>\n",
       "    </tr>\n",
       "  </tbody>\n",
       "</table>\n",
       "</div>"
      ],
      "text/plain": [
       "                                  nyt_id  \\\n",
       "facility_state facility_county             \n",
       "Alabama        Coosa            F3EFE858   \n",
       "               Shelby           5B910220   \n",
       "               Bibb             02FB1675   \n",
       "               Jefferson        6378F6C4   \n",
       "               Bullock          EAABF900   \n",
       "\n",
       "                                                                    facility_name  \\\n",
       "facility_state facility_county                                                      \n",
       "Alabama        Coosa                                Alex City Work Release prison   \n",
       "               Shelby               Alabama Therapeutic Education Facility prison   \n",
       "               Bibb                                    Bibb Correctional Facility   \n",
       "               Jefferson        Birmingham Women's Community Based Facility an...   \n",
       "               Bullock                              Bullock Correctional Facility   \n",
       "\n",
       "                                              facility_type  \\\n",
       "facility_state facility_county                                \n",
       "Alabama        Coosa              Low-security work release   \n",
       "               Shelby           State rehabilitation center   \n",
       "               Bibb                            State prison   \n",
       "               Jefferson                       State prison   \n",
       "               Bullock                         State prison   \n",
       "\n",
       "                                latest_inmate_population  \\\n",
       "facility_state facility_county                             \n",
       "Alabama        Coosa                               188.0   \n",
       "               Shelby                              272.0   \n",
       "               Bibb                               1725.0   \n",
       "               Jefferson                           192.0   \n",
       "               Bullock                            1477.0   \n",
       "\n",
       "                                max_inmate_population_2020  \\\n",
       "facility_state facility_county                               \n",
       "Alabama        Coosa                                   NaN   \n",
       "               Shelby                                  NaN   \n",
       "               Bibb                                 1825.0   \n",
       "               Jefferson                               NaN   \n",
       "               Bullock                              1577.0   \n",
       "\n",
       "                                total_inmate_cases  total_inmate_deaths  \\\n",
       "facility_state facility_county                                            \n",
       "Alabama        Coosa                            77                    0   \n",
       "               Shelby                           11                    1   \n",
       "               Bibb                            164                    3   \n",
       "               Jefferson                        17                    0   \n",
       "               Bullock                         162                    5   \n",
       "\n",
       "                                total_officer_cases  total_officer_deaths  \n",
       "facility_state facility_county                                             \n",
       "Alabama        Coosa                             17                   0.0  \n",
       "               Shelby                             2                   0.0  \n",
       "               Bibb                              61                   0.0  \n",
       "               Jefferson                         28                   0.0  \n",
       "               Bullock                           80                   1.0  "
      ]
     },
     "execution_count": 7,
     "metadata": {},
     "output_type": "execute_result"
    }
   ],
   "source": [
    "Prison_Data.drop([\"facility_county_fips\",\"facility_city\",\"facility_lng\",\"facility_lat\",\"note\"],axis=1,inplace=True)\n",
    "Prison_Data.head()"
   ]
  },
  {
   "cell_type": "code",
   "execution_count": 8,
   "id": "00e35845",
   "metadata": {},
   "outputs": [
    {
     "data": {
      "text/html": [
       "<div>\n",
       "<style scoped>\n",
       "    .dataframe tbody tr th:only-of-type {\n",
       "        vertical-align: middle;\n",
       "    }\n",
       "\n",
       "    .dataframe tbody tr th {\n",
       "        vertical-align: top;\n",
       "    }\n",
       "\n",
       "    .dataframe thead th {\n",
       "        text-align: right;\n",
       "    }\n",
       "</style>\n",
       "<table border=\"1\" class=\"dataframe\">\n",
       "  <thead>\n",
       "    <tr style=\"text-align: right;\">\n",
       "      <th></th>\n",
       "      <th></th>\n",
       "      <th></th>\n",
       "      <th>cases</th>\n",
       "      <th>deaths</th>\n",
       "    </tr>\n",
       "    <tr>\n",
       "      <th>date</th>\n",
       "      <th>state</th>\n",
       "      <th>county</th>\n",
       "      <th></th>\n",
       "      <th></th>\n",
       "    </tr>\n",
       "  </thead>\n",
       "  <tbody>\n",
       "    <tr>\n",
       "      <th>2020-01-21</th>\n",
       "      <th>Washington</th>\n",
       "      <th>Snohomish</th>\n",
       "      <td>1</td>\n",
       "      <td>0.0</td>\n",
       "    </tr>\n",
       "    <tr>\n",
       "      <th>2020-01-22</th>\n",
       "      <th>Washington</th>\n",
       "      <th>Snohomish</th>\n",
       "      <td>1</td>\n",
       "      <td>0.0</td>\n",
       "    </tr>\n",
       "    <tr>\n",
       "      <th>2020-01-23</th>\n",
       "      <th>Washington</th>\n",
       "      <th>Snohomish</th>\n",
       "      <td>1</td>\n",
       "      <td>0.0</td>\n",
       "    </tr>\n",
       "    <tr>\n",
       "      <th rowspan=\"2\" valign=\"top\">2020-01-24</th>\n",
       "      <th>Illinois</th>\n",
       "      <th>Cook</th>\n",
       "      <td>1</td>\n",
       "      <td>0.0</td>\n",
       "    </tr>\n",
       "    <tr>\n",
       "      <th>Washington</th>\n",
       "      <th>Snohomish</th>\n",
       "      <td>1</td>\n",
       "      <td>0.0</td>\n",
       "    </tr>\n",
       "  </tbody>\n",
       "</table>\n",
       "</div>"
      ],
      "text/plain": [
       "                                 cases  deaths\n",
       "date       state      county                  \n",
       "2020-01-21 Washington Snohomish      1     0.0\n",
       "2020-01-22 Washington Snohomish      1     0.0\n",
       "2020-01-23 Washington Snohomish      1     0.0\n",
       "2020-01-24 Illinois   Cook           1     0.0\n",
       "           Washington Snohomish      1     0.0"
      ]
     },
     "execution_count": 8,
     "metadata": {},
     "output_type": "execute_result"
    }
   ],
   "source": [
    "County_Data.drop(\"fips\",axis=1,inplace=True)\n",
    "County_Data.head()"
   ]
  },
  {
   "cell_type": "code",
   "execution_count": 9,
   "id": "5a0408cb",
   "metadata": {},
   "outputs": [
    {
     "data": {
      "text/html": [
       "<div>\n",
       "<style scoped>\n",
       "    .dataframe tbody tr th:only-of-type {\n",
       "        vertical-align: middle;\n",
       "    }\n",
       "\n",
       "    .dataframe tbody tr th {\n",
       "        vertical-align: top;\n",
       "    }\n",
       "\n",
       "    .dataframe thead th {\n",
       "        text-align: right;\n",
       "    }\n",
       "</style>\n",
       "<table border=\"1\" class=\"dataframe\">\n",
       "  <thead>\n",
       "    <tr style=\"text-align: right;\">\n",
       "      <th></th>\n",
       "      <th>cases</th>\n",
       "      <th>deaths</th>\n",
       "    </tr>\n",
       "    <tr>\n",
       "      <th>date</th>\n",
       "      <th></th>\n",
       "      <th></th>\n",
       "    </tr>\n",
       "  </thead>\n",
       "  <tbody>\n",
       "    <tr>\n",
       "      <th>2020-01-21</th>\n",
       "      <td>1</td>\n",
       "      <td>0</td>\n",
       "    </tr>\n",
       "    <tr>\n",
       "      <th>2020-01-22</th>\n",
       "      <td>1</td>\n",
       "      <td>0</td>\n",
       "    </tr>\n",
       "    <tr>\n",
       "      <th>2020-01-23</th>\n",
       "      <td>1</td>\n",
       "      <td>0</td>\n",
       "    </tr>\n",
       "    <tr>\n",
       "      <th>2020-01-24</th>\n",
       "      <td>2</td>\n",
       "      <td>0</td>\n",
       "    </tr>\n",
       "    <tr>\n",
       "      <th>2020-01-25</th>\n",
       "      <td>3</td>\n",
       "      <td>0</td>\n",
       "    </tr>\n",
       "  </tbody>\n",
       "</table>\n",
       "</div>"
      ],
      "text/plain": [
       "            cases  deaths\n",
       "date                     \n",
       "2020-01-21      1       0\n",
       "2020-01-22      1       0\n",
       "2020-01-23      1       0\n",
       "2020-01-24      2       0\n",
       "2020-01-25      3       0"
      ]
     },
     "execution_count": 9,
     "metadata": {},
     "output_type": "execute_result"
    }
   ],
   "source": [
    "US_Data.head()"
   ]
  },
  {
   "cell_type": "code",
   "execution_count": 10,
   "id": "554de623",
   "metadata": {},
   "outputs": [],
   "source": [
    "College_Data.to_csv(\"../data_clean/College_Data.csv\")\n",
    "Death_Data.to_csv(\"../data_clean/Death_Data.csv\")\n",
    "Mask_Data.to_csv(\"../data_clean/Mask_Data.csv\")\n",
    "Prison_Data.to_csv(\"../data_clean/Prison_Data.csv\")\n",
    "County_Data.to_csv(\"../data_clean/County_Data.csv\")\n",
    "US_Data.to_csv(\"../data_clean/US_data.csv\")"
   ]
  },
  {
   "cell_type": "markdown",
   "id": "655bfa1c",
   "metadata": {},
   "source": [
    "# Time for some EDA before I begin asnwering my questions"
   ]
  },
  {
   "cell_type": "code",
   "execution_count": 79,
   "id": "c9431d0e",
   "metadata": {
    "scrolled": false
   },
   "outputs": [
    {
     "data": {
      "image/png": "[encoded data removed]",
      "text/plain": [
       "<Figure size 1080x360 with 1 Axes>"
      ]
     },
     "metadata": {
      "needs_background": "light"
     },
     "output_type": "display_data"
    }
   ],
   "source": [
    "County_Data.loc[\"2022-04-11\"].groupby(\"state\")[\"cases\"].sum().sort_values(ascending=False).plot(kind=\"bar\",figsize = (15,5))\n",
    "plt.xticks(rotation=77)\n",
    "plt.ylabel(\"Cases (in 10,000,000's)\")\n",
    "plt.title(\"Cases of COVID-19 per state\")\n",
    "plt.show()"
   ]
  },
  {
   "cell_type": "markdown",
   "id": "a32432c7",
   "metadata": {},
   "source": [
    "## Now that the data is clean I can begin to answer some of the questions outlined in my proposal."
   ]
  },
  {
   "cell_type": "markdown",
   "id": "01c38eeb",
   "metadata": {},
   "source": [
    "### Lets start with comparing the college cases to the total cases, instead of doing this for all 50 states, I am going to pick the 5 states that have the largest ammount of covid cases measuring up to 2022-04-11."
   ]
  },
  {
   "cell_type": "code",
   "execution_count": 11,
   "id": "d35fea2c",
   "metadata": {},
   "outputs": [
    {
     "data": {
      "text/plain": [
       "state\n",
       "California    9134794\n",
       "Texas         6707110\n",
       "Florida       5867926\n",
       "New York      5027587\n",
       "Illinois      3090590\n",
       "Name: cases, dtype: int64"
      ]
     },
     "execution_count": 11,
     "metadata": {},
     "output_type": "execute_result"
    }
   ],
   "source": [
    "County_Data.loc[\"2022-04-11\"].groupby(\"state\")[\"cases\"].sum().sort_values(ascending=False)[0:5]"
   ]
  },
  {
   "cell_type": "markdown",
   "id": "41ea75c8",
   "metadata": {},
   "source": [
    "California  \n",
    "% of covid cases reported from colleges."
   ]
  },
  {
   "cell_type": "code",
   "execution_count": 12,
   "id": "3ddfedc7",
   "metadata": {},
   "outputs": [
    {
     "data": {
      "text/plain": [
       "0.24"
      ]
     },
     "execution_count": 12,
     "metadata": {},
     "output_type": "execute_result"
    }
   ],
   "source": [
    "round((College_Data.loc[\"California\"][\"cases\"].sum()/County_Data.loc[\"2022-04-11\"][\"cases\"][\"California\"].sum())*100,2)"
   ]
  },
  {
   "cell_type": "markdown",
   "id": "74553d3e",
   "metadata": {},
   "source": [
    "Texas  \n",
    "% of covid cases reported from colleges."
   ]
  },
  {
   "cell_type": "code",
   "execution_count": 13,
   "id": "2c49001f",
   "metadata": {},
   "outputs": [
    {
     "data": {
      "text/plain": [
       "0.77"
      ]
     },
     "execution_count": 13,
     "metadata": {},
     "output_type": "execute_result"
    }
   ],
   "source": [
    "round((College_Data.loc[\"Texas\"][\"cases\"].sum()/County_Data.loc[\"2022-04-11\"][\"cases\"][\"Texas\"].sum())*100,2)"
   ]
  },
  {
   "cell_type": "markdown",
   "id": "8c744bb3",
   "metadata": {},
   "source": [
    "Florida  \n",
    "% of covid cases reported from colleges."
   ]
  },
  {
   "cell_type": "code",
   "execution_count": 14,
   "id": "3c68532f",
   "metadata": {},
   "outputs": [
    {
     "data": {
      "text/plain": [
       "0.6"
      ]
     },
     "execution_count": 14,
     "metadata": {},
     "output_type": "execute_result"
    }
   ],
   "source": [
    "round((College_Data.loc[\"Florida\"][\"cases\"].sum()/County_Data.loc[\"2022-04-11\"][\"cases\"][\"Florida\"].sum())*100,2)"
   ]
  },
  {
   "cell_type": "markdown",
   "id": "f6e02c4a",
   "metadata": {},
   "source": [
    "New york  \n",
    "% of covid cases reported from colleges."
   ]
  },
  {
   "cell_type": "code",
   "execution_count": 15,
   "id": "5f1f260b",
   "metadata": {},
   "outputs": [
    {
     "data": {
      "text/plain": [
       "0.78"
      ]
     },
     "execution_count": 15,
     "metadata": {},
     "output_type": "execute_result"
    }
   ],
   "source": [
    "round((College_Data.loc[\"New York\"][\"cases\"].sum()/County_Data.loc[\"2022-04-11\"][\"cases\"][\"New York\"].sum())*100,2)"
   ]
  },
  {
   "cell_type": "markdown",
   "id": "79c16691",
   "metadata": {},
   "source": [
    "Illinois  \n",
    "% of covid cases reported from colleges."
   ]
  },
  {
   "cell_type": "code",
   "execution_count": 16,
   "id": "bf8062d2",
   "metadata": {},
   "outputs": [
    {
     "data": {
      "text/plain": [
       "0.76"
      ]
     },
     "execution_count": 16,
     "metadata": {},
     "output_type": "execute_result"
    }
   ],
   "source": [
    "round((College_Data.loc[\"Illinois\"][\"cases\"].sum()/County_Data.loc[\"2022-04-11\"][\"cases\"][\"Illinois\"].sum())*100,2)"
   ]
  },
  {
   "cell_type": "markdown",
   "id": "f2a01e61",
   "metadata": {},
   "source": [
    "### Now I will check the infection rates in prison in the same states to see if there is a difference between the school cases and prison cases."
   ]
  },
  {
   "cell_type": "markdown",
   "id": "ed913213",
   "metadata": {},
   "source": [
    "California  \n",
    "% of covid cases reported from prisons."
   ]
  },
  {
   "cell_type": "code",
   "execution_count": 17,
   "id": "ac617e75",
   "metadata": {
    "scrolled": true
   },
   "outputs": [
    {
     "data": {
      "text/plain": [
       "0.82"
      ]
     },
     "execution_count": 17,
     "metadata": {},
     "output_type": "execute_result"
    }
   ],
   "source": [
    "round((Prison_Data.loc[\"California\"][\"total_inmate_cases\"].sum()/County_Data.loc[\"2022-04-11\"][\"cases\"][\"California\"].sum())*100,2)"
   ]
  },
  {
   "cell_type": "markdown",
   "id": "b1da0a26",
   "metadata": {},
   "source": [
    "Texas  \n",
    "% of covid cases reported from prisons."
   ]
  },
  {
   "cell_type": "code",
   "execution_count": 18,
   "id": "5d8bd8f3",
   "metadata": {},
   "outputs": [
    {
     "data": {
      "text/plain": [
       "0.86"
      ]
     },
     "execution_count": 18,
     "metadata": {},
     "output_type": "execute_result"
    }
   ],
   "source": [
    "round((Prison_Data.loc[\"Texas\"][\"total_inmate_cases\"].sum()/County_Data.loc[\"2022-04-11\"][\"cases\"][\"Texas\"].sum())*100,2)"
   ]
  },
  {
   "cell_type": "markdown",
   "id": "a24030ee",
   "metadata": {},
   "source": [
    "Florida     \n",
    "% of covid cases reported from prisons."
   ]
  },
  {
   "cell_type": "code",
   "execution_count": 19,
   "id": "fac0ea7d",
   "metadata": {},
   "outputs": [
    {
     "data": {
      "text/plain": [
       "0.5"
      ]
     },
     "execution_count": 19,
     "metadata": {},
     "output_type": "execute_result"
    }
   ],
   "source": [
    "round((Prison_Data.loc[\"Florida\"][\"total_inmate_cases\"].sum()/County_Data.loc[\"2022-04-11\"][\"cases\"][\"Florida\"].sum())*100,2)"
   ]
  },
  {
   "cell_type": "markdown",
   "id": "3cd6adea",
   "metadata": {},
   "source": [
    "New york  \n",
    "% of covid cases reported from prisons."
   ]
  },
  {
   "cell_type": "code",
   "execution_count": 20,
   "id": "8f51a106",
   "metadata": {},
   "outputs": [
    {
     "data": {
      "text/plain": [
       "0.19"
      ]
     },
     "execution_count": 20,
     "metadata": {},
     "output_type": "execute_result"
    }
   ],
   "source": [
    "round((Prison_Data.loc[\"New York\"][\"total_inmate_cases\"].sum()/County_Data.loc[\"2022-04-11\"][\"cases\"][\"New York\"].sum())*100,2)"
   ]
  },
  {
   "cell_type": "markdown",
   "id": "0dbfef6b",
   "metadata": {},
   "source": [
    "Illinois  \n",
    "% of covid cases reported from prisons."
   ]
  },
  {
   "cell_type": "code",
   "execution_count": 21,
   "id": "7ce0bc0b",
   "metadata": {
    "scrolled": true
   },
   "outputs": [
    {
     "data": {
      "text/plain": [
       "0.56"
      ]
     },
     "execution_count": 21,
     "metadata": {},
     "output_type": "execute_result"
    }
   ],
   "source": [
    "round((Prison_Data.loc[\"Illinois\"][\"total_inmate_cases\"].sum()/County_Data.loc[\"2022-04-11\"][\"cases\"][\"Illinois\"].sum())*100,2)"
   ]
  },
  {
   "cell_type": "markdown",
   "id": "67192ec0",
   "metadata": {},
   "source": [
    "## Covid Infection rate changes from 2020 - 2022"
   ]
  },
  {
   "cell_type": "code",
   "execution_count": 45,
   "id": "f4b60367",
   "metadata": {},
   "outputs": [
    {
     "data": {
      "text/plain": [
       "Text(0, 0.5, \"Cases (in 10,000,000's)\")"
      ]
     },
     "execution_count": 45,
     "metadata": {},
     "output_type": "execute_result"
    },
    {
     "data": {
      "image/png": "[encoded data removed]",
      "text/plain": [
       "<Figure size 432x288 with 1 Axes>"
      ]
     },
     "metadata": {
      "needs_background": "light"
     },
     "output_type": "display_data"
    }
   ],
   "source": [
    "US_Data[\"cases\"].plot()\n",
    "plt.title(\"Growth over time of COVID-19\")\n",
    "plt.ylabel(\"Cases (in 10,000,000's)\")"
   ]
  },
  {
   "cell_type": "code",
   "execution_count": 50,
   "id": "0e68a88c",
   "metadata": {},
   "outputs": [
    {
     "data": {
      "image/png": "[encoded data removed]",
      "text/plain": [
       "<Figure size 432x288 with 1 Axes>"
      ]
     },
     "metadata": {
      "needs_background": "light"
     },
     "output_type": "display_data"
    }
   ],
   "source": [
    "Plot_2020 = US_Data[\"2020-01-21\" : \"2020-12-31\"][\"cases\"].plot()\n",
    "Plot_2021 = US_Data[\"2021-01-01\" : \"2021-12-31\"][\"cases\"].plot()\n",
    "Plot_2022 = US_Data[\"2022-01-01\" : \"2022-04-11\"][\"cases\"].plot()\n",
    "plt.legend([\"2020\",\"2021\",'2022'])\n",
    "plt.title(\"Comparison of growth over time of COVID-19\")\n",
    "plt.ylabel(\"Cases (in 10,000,000's)\")\n",
    "plt.xlabel(\"Relative time in year (Jan to Dec)\")\n",
    "ax = plt.gca()\n",
    "ax.axes.xaxis.set_ticklabels([])\n",
    "plt.show()"
   ]
  }
 ],
 "metadata": {
  "kernelspec": {
   "display_name": "Python 3 (ipykernel)",
   "language": "python",
   "name": "python3"
  },
  "language_info": {
   "codemirror_mode": {
    "name": "ipython",
    "version": 3
   },
   "file_extension": ".py",
   "mimetype": "text/x-python",
   "name": "python",
   "nbconvert_exporter": "python",
   "pygments_lexer": "ipython3",
   "version": "3.8.8"
  }
 },
 "nbformat": 4,
 "nbformat_minor": 5
}
